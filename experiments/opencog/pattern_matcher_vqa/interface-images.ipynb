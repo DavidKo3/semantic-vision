{
 "cells": [
  {
   "cell_type": "code",
   "execution_count": 1,
   "metadata": {},
   "outputs": [],
   "source": [
    "\n",
    "import os\n"
   ]
  },
  {
   "cell_type": "code",
   "execution_count": 2,
   "metadata": {},
   "outputs": [],
   "source": [
    "import network_runner\n",
    "from splitnet.splitmultidnnmodel import SplitMultidnnRunner"
   ]
  },
  {
   "cell_type": "code",
   "execution_count": 3,
   "metadata": {
    "scrolled": true
   },
   "outputs": [
    {
     "name": "stderr",
     "output_type": "stream",
     "text": [
      "/home/noskill/anaconda3/envs/pmvqa3/lib/python3.5/importlib/_bootstrap.py:222: RuntimeWarning: compiletime version 3.6 of module 'opencog.logger' does not match runtime version 3.5\n",
      "  return f(*args, **kwds)\n",
      "/home/noskill/anaconda3/envs/pmvqa3/lib/python3.5/importlib/_bootstrap.py:222: RuntimeWarning: compiletime version 3.6 of module 'opencog.atomspace' does not match runtime version 3.5\n",
      "  return f(*args, **kwds)\n",
      "/home/noskill/anaconda3/envs/pmvqa3/lib/python3.5/importlib/_bootstrap.py:222: RuntimeWarning: compiletime version 3.6 of module 'opencog.type_constructors' does not match runtime version 3.5\n",
      "  return f(*args, **kwds)\n",
      "/home/noskill/anaconda3/envs/pmvqa3/lib/python3.5/importlib/_bootstrap.py:222: RuntimeWarning: compiletime version 3.6 of module 'opencog.scheme_wrapper' does not match runtime version 3.5\n",
      "  return f(*args, **kwds)\n"
     ]
    }
   ],
   "source": [
    "# setup pipeline\n",
    "from pattern_matcher_vqa import PatternMatcherVqaPipeline, runNeuralNetwork\n",
    "from util import initialize_atomspace\n",
    "from gui_helpers import build_extractor, build_converter, MainWindow\n",
    "\n",
    "question2atomeseLibraryPath = ('../question2atomese/target/question2atomese-1.0-SNAPSHOT.jar')\n",
    "atomspace_path = '/mnt/fileserver/shared/models/vqa_split_multidnn/vqa_dataset/atomspace_val.scm'\n",
    "prototxt = '/mnt/fileserver/shared/vital/image-features/test.prototxt'\n",
    "caffemodel = '/mnt/fileserver/shared/vital/image-features/resnet101_faster_rcnn_final_iter_320000_for_36_bboxes.caffemodel'\n",
    "\n",
    "\n",
    "\n",
    "extractor = build_extractor(prototxt, caffemodel)\n",
    "\n",
    "question_converter = build_converter()\n",
    "\n",
    "atomspace = initialize_atomspace('atomspace_val.scm')\n",
    "  \n"
   ]
  },
  {
   "cell_type": "code",
   "execution_count": 4,
   "metadata": {},
   "outputs": [
    {
     "name": "stdout",
     "output_type": "stream",
     "text": [
      "loading dictionary from /mnt/fileserver/shared/models/vqa_split_multidnn/visual_genome/dictionary.pkl\n"
     ]
    },
    {
     "name": "stderr",
     "output_type": "stream",
     "text": [
      "no threshold for 25, using mean value 0.8608333333333337\n",
      "no threshold for 90, using mean value 0.8608333333333337\n",
      "no threshold for 107, using mean value 0.8608333333333337\n",
      "no threshold for 114, using mean value 0.8608333333333337\n",
      "no threshold for 180, using mean value 0.8608333333333337\n",
      "no threshold for 220, using mean value 0.8608333333333337\n",
      "no threshold for 225, using mean value 0.8608333333333337\n",
      "no threshold for 285, using mean value 0.8608333333333337\n",
      "no threshold for 392, using mean value 0.8608333333333337\n",
      "no threshold for 613, using mean value 0.8608333333333337\n",
      "no threshold for 630, using mean value 0.8608333333333337\n",
      "no threshold for 631, using mean value 0.8608333333333337\n",
      "no threshold for 653, using mean value 0.8608333333333337\n",
      "no threshold for 670, using mean value 0.8608333333333337\n",
      "no threshold for 769, using mean value 0.8608333333333337\n",
      "no threshold for 842, using mean value 0.8608333333333337\n",
      "no threshold for 966, using mean value 0.8608333333333337\n",
      "no threshold for 1266, using mean value 0.8608333333333337\n",
      "no threshold for 1375, using mean value 0.8608333333333337\n",
      "no threshold for 1664, using mean value 0.8608333333333337\n",
      "no threshold for 1875, using mean value 0.8608333333333337\n",
      "no threshold for 2056, using mean value 0.8608333333333337\n",
      "no threshold for 2593, using mean value 0.8608333333333337\n",
      "no threshold for 2877, using mean value 0.8608333333333337\n",
      "no threshold for 3140, using mean value 0.8608333333333337\n"
     ]
    }
   ],
   "source": [
    "models = '/mnt/fileserver/shared/models/vqa_split_multidnn/visual_genome/'\n",
    "network_runner.runner = SplitMultidnnRunner(models)\n",
    "vqa = PatternMatcherVqaPipeline(extractor, question_converter, atomspace, None)"
   ]
  },
  {
   "cell_type": "code",
   "execution_count": null,
   "metadata": {},
   "outputs": [],
   "source": []
  },
  {
   "cell_type": "code",
   "execution_count": 5,
   "metadata": {},
   "outputs": [],
   "source": [
    "images_path = '/home/noskill/experiments/pattern_matcher_vqa/images'\n",
    "\n",
    "images = [os.path.join(images_path, x) for x in os.listdir(images_path)]\n",
    "\n"
   ]
  },
  {
   "cell_type": "code",
   "execution_count": null,
   "metadata": {},
   "outputs": [],
   "source": []
  },
  {
   "cell_type": "code",
   "execution_count": 6,
   "metadata": {},
   "outputs": [
    {
     "data": {
      "application/vnd.jupyter.widget-view+json": {
       "model_id": "e8c3274df3bf4348be04e7fcd98fe0e8",
       "version_major": 2,
       "version_minor": 0
      },
      "text/plain": [
       "HBox(children=(interactive(children=(IntSlider(value=3, description='idx', max=6), Output()), layout=Layout(he…"
      ]
     },
     "metadata": {},
     "output_type": "display_data"
    }
   ],
   "source": [
    "window = MainWindow(images, vqa)\n",
    "window.display()\n"
   ]
  },
  {
   "cell_type": "code",
   "execution_count": null,
   "metadata": {},
   "outputs": [],
   "source": []
  }
 ],
 "metadata": {
  "kernelspec": {
   "display_name": "Python [default]",
   "language": "python",
   "name": "python3"
  },
  "language_info": {
   "codemirror_mode": {
    "name": "ipython",
    "version": 3
   },
   "file_extension": ".py",
   "mimetype": "text/x-python",
   "name": "python",
   "nbconvert_exporter": "python",
   "pygments_lexer": "ipython3",
   "version": "3.5.6"
  }
 },
 "nbformat": 4,
 "nbformat_minor": 2
}
